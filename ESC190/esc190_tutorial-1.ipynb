{
 "cells": [
  {
   "cell_type": "markdown",
   "id": "5c338c2b-324b-4158-9f57-dd9193f7f71b",
   "metadata": {},
   "source": [
    "# ESC190 Tutorial 1\n",
    "\n",
    "\n",
    "> Today's tutorial will be pretty short since we're only getting started with learning the language. I will cover supplementary material on top of the content taught last week and for part of this week.\n",
    "> Unless it is part of a question/particularly confusing I will try my best to not simply reiterate lecture material.\n",
    "\n",
    "\n",
    "## Getting started with `c`\n",
    "\n",
    "Intro to `c` syntax and program flow should be already covered in lecture and there are *a lot* of resources online.\n",
    "\n",
    "Things to note:\n",
    "\n",
    "- `c` is a *[statically typed](https://stackoverflow.com/questions/1517582/what-is-the-difference-between-statically-typed-and-dynamically-typed-languages)* language\n",
    "- `c` is a *[compiled](https://en.wikipedia.org/wiki/Compiled_language)* language\n",
    "- [Here](https://cheatography.com/ashlyn-black/cheat-sheets/c-reference/) is a great cheat sheet for `c` & is very \"`CTRL-F`-able\", so to speak.\n",
    "\n",
    "Some frequently asked questions:\n",
    "\n",
    "Q: What is the `main` function?  \n",
    "A: `main` is the entry point to your program. It is the first function that gets called when your program starts and every `c` executable must have a `main` function.\n",
    "\n",
    "Q: How do I run my `c` program?  \n",
    "A: This will depend on your operating system and environment. I recommend using [GCC](https://gcc.gnu.org/) or [Clang](https://clang.llvm.org/) alongside [GDB](https://www.gnu.org/software/gdb/) for debugging. \n",
    "As for text editors, I recommend using [vscode](https://code.visualstudio.com/) and following [these steps](https://code.visualstudio.com/docs/languages/cpp) to get started.\n",
    "Personally I use [neovim](https://neovim.io) and a terminal-centric development workflow, however, the learning curve is rather steep.\n",
    "\n",
    "Q: How do `#include`s work? Does order matter?  \n",
    "A: `#include`s are used to import libraries and other files into your program. \n",
    "Ideally, order *should* not matter and header files should be self-contained (for convention-abiding code), but it *can* matter in edge cases where one tries to squeeze some extra performance out of a program, or if one is working with a finicky library. \n",
    "To make sure you don't encounter errors while working with multi-file projects, **always** use [`#include` guards](https://en.wikipedia.org/wiki/Include_guard)!\n",
    "See [here](https://stackoverflow.com/questions/691079/is-there-a-standard-include-convention-for-c) for general best practices."
   ]
  },
  {
   "cell_type": "code",
   "execution_count": null,
   "id": "eaacb5c0-903a-4a93-9a83-8d66cd02c21e",
   "metadata": {},
   "outputs": [],
   "source": [
    "// Using this notebook\n",
    "// This notebook allows you to execute `c` code using this `c` jupyter kernel\n",
    "// implementation: https://github.com/brendan-rius/jupyter-c-kernel\n",
    "// It does have some limitations e.g. no interactivity, each code cell must have a `main` \n",
    "// function, etc\n",
    "\n",
    "// Note that in order to use `math.h` we have to specify that we will be linking\n",
    "// to `math.h` via a special %cflags directive at the top of the code cell\n",
    "// other flags to the compiler can be passed this way too\n"
   ]
  },
  {
   "cell_type": "code",
   "execution_count": 13,
   "id": "c4580cfb-9c7b-441a-b2ed-c0e7ece2ab72",
   "metadata": {},
   "outputs": [
    {
     "name": "stdout",
     "output_type": "stream",
     "text": [
      "3.162278\n"
     ]
    }
   ],
   "source": [
    "//%cflags:-lm\n",
    "// ^^ link to math library \n",
    "#include <math.h>\n",
    "#include <stdio.h>\n",
    "\n",
    "int main () {\n",
    "    printf(\"%f\\n\", sqrt(10));\n",
    "    return 0;\n",
    "}\n"
   ]
  },
  {
   "cell_type": "markdown",
   "id": "9704c634-3a62-4e3a-b58c-9454301492c3",
   "metadata": {},
   "source": [
    "### Complexity analysis & sorting algorithms\n",
    "See [my writeup from ESC180](https://github.com/ihasdapie/teaching/blob/main/ESC180/ESC180_Unofficial_Review.ipynb) regarding complexity analysis.\n",
    "The following will walk through finding the time and space complexity of various sorting algorithms as well as some general comments.\n",
    "[Here](https://en.wikipedia.org/wiki/Sorting_algorithm#Comparison_of_algorithms) is a good table of common sorting algorithms and their best/worst/average case time and space complexity.\n",
    "\n",
    "Complexity analysis of some common sorting algorithms.\n",
    "\n",
    "\n",
    "Given an unsorted array of integers, e.g.\n",
    "\n",
    "```c\n",
    "int arr[] = {1, 2, 3, 4, 5, 6, 7, 8, 9, 10};\n",
    "```\n",
    "\n",
    "#### Bubble sort\n",
    "Bubble sort is a simple sorting algorithm that works by repeatedly swapping adjacent elements if they are in the wrong order."
   ]
  },
  {
   "cell_type": "code",
   "execution_count": null,
   "id": "2b3cfc73-f605-49a1-aa2c-55bff8253d26",
   "metadata": {},
   "outputs": [],
   "source": [
    "void bubble_sort(int[] arr, int n) {\n",
    "    int i, j, tmp;\n",
    "    for (i = 0; i < n; i++) {\n",
    "        for (j = 0; j < n - i - 1; j++) {\n",
    "            if (arr[j] > arr[j + 1]) {\n",
    "                tmp = arr[j];\n",
    "                arr[j] = arr[j + 1];\n",
    "                arr[j + 1] = tmp;\n",
    "            }\n",
    "        }\n",
    "    }\n",
    "}"
   ]
  },
  {
   "cell_type": "markdown",
   "id": "0b3126e8-c173-4638-8b86-2cd61d5249cf",
   "metadata": {},
   "source": [
    "1. Identify \"elementary operation\"\n",
    "    - Swapping two adjacent elements if they are in the wrong order\n",
    "2.  Pick `n`\n",
    "    -   Take `n` to be the size of the input array.\n",
    "3. Inspect how much the \"elementary operation\" is performed relative to `n` \n",
    "    - The elementary operation is performed `n` times in a loop that runs `n` times, so the time complexity is `O(n^2)`\n",
    "4. Inspect how much additional space is used relative to `n`\n",
    "    - We perform the swaps in-place and only allocate three additional variables, `i`, `j`, and `tmp`, so the space complexity is `O(1)`"
   ]
  },
  {
   "cell_type": "markdown",
   "id": "b6af0486-07bc-41d2-b9fb-1b30beda69dd",
   "metadata": {},
   "source": [
    "#### Insertion sort\n",
    "Inserting sort works by maintaining a sorted sublist and inserting each element into the correct position in the sublist."
   ]
  },
  {
   "cell_type": "code",
   "execution_count": null,
   "id": "c70f1836-4057-444a-886d-e75aef10b07f",
   "metadata": {},
   "outputs": [],
   "source": [
    "void insertion_sort(int[] arr, int n) {\n",
    "    int i, j;\n",
    "    for (i = 1; i < n; i++) {\n",
    "        j = i - 1;\n",
    "        while (j >= 0 && arr[j] > arr[i]) {\n",
    "            arr[j + 1] = arr[j];\n",
    "            j = j - 1;\n",
    "        }\n",
    "        arr[j + 1] = arr[i];\n",
    "    }"
   ]
  },
  {
   "cell_type": "markdown",
   "id": "d9c76cef-7b5e-4631-9d91-cd956273124b",
   "metadata": {},
   "source": [
    "1. Identify \"elementary operation\"\n",
    "    - Inserting an element into the correct position in the sorted sublist\n",
    "2.  Pick `n`\n",
    "    -   Take `n` to be the size of the input array.\n",
    "3. Inspect how much the \"elementary operation\" is performed relative to `n` \n",
    "    - The elementary operation is performed in a `while` loop that runs (in the worst case), `n` times, which is in turn in a `for` loop that runs `n` times, so the time complexity is `O(n^2)`\n",
    "4. Inspect how much additional space is used relative to `n`\n",
    "    - We perform the insertions in-place and only allocate two additional variables, `i` and `j`, so the space complexity is `O(1)`\n",
    "\n",
    "\n",
    "Follow-up questions:\n",
    "- If insertion sort and bubble sort have the same time and space complexity, why is insertion sort faster?\n",
    "  - Hint: consider non-worst case scenarios. How many times would the inner `while` loop iterate during an average case? Or the best case?\n",
    "- Is the sort [stable](https://en.wikipedia.org/wiki/Sorting_algorithm#Stability)? Why?\n",
    "- What if we weren't allowed to modify the input array? What would the space complexities be?"
   ]
  },
  {
   "cell_type": "markdown",
   "id": "3e33fdf9-2243-4130-ad16-aadd738a862d",
   "metadata": {},
   "source": [
    "#### Heap sort\n",
    "Heaps are a type of data structure that you will learn about later on in this course. \n",
    "Some basic properties about heaps that you will need to know:\n",
    "\n",
    "1. Heaps are a tree data structure that maintains the heap property, which is that if A is a parent node of B, then the value of A is greater than or equal to the value of B\n",
    "2. Heap operations (for a binary heap)\n",
    "    1. Removing the max element: O(logn)\n",
    "    2. Accessing the max element: O(1)\n",
    "    3. Inserting an arbitrary element: O(logn)\n",
    "    4. Deleting an arbitrary element: O(logn)\n",
    "    \n",
    "We may assume that we are storing our binary heap in array format, and we have the following functions:\n",
    "\n"
   ]
  },
  {
   "cell_type": "code",
   "execution_count": null,
   "id": "5f42e56e-243d-43c3-98d1-866b9c82da04",
   "metadata": {},
   "outputs": [],
   "source": [
    "// this is pseudocode\n",
    "\n",
    "fun heapsort(list* arr) {\n",
    "    heap = new heap;\n",
    "    res = new list;\n",
    "    \n",
    "    for i in arr {\n",
    "        heap->insert(i);\n",
    "    }\n",
    "    \n",
    "    arr->clear();\n",
    "   \n",
    "    for i in heap.size() {\n",
    "        arr->push(heap->popmax()):\n",
    "    }\n",
    "}"
   ]
  },
  {
   "cell_type": "markdown",
   "id": "10a13e56-191a-4c89-a833-7e8dc93a6d7b",
   "metadata": {},
   "source": [
    "1. Identify \"elementary operation\"\n",
    "    - Inserting and popping from the heap\n",
    "2.  Pick `n`\n",
    "    -   Take `n` to be the size of the input array.\n",
    "3. Inspect how much the \"elementary operation\" is performed relative to `n` \n",
    "    - The elementary operation is performed `n` times in a loop.\n",
    "    - We know the operation takes logn times\n",
    "    - Therefore the time complexity is O(logn)\n",
    "4. Inspect how much additional space is used relative to `n`\n",
    "    - A new heap is allocated of size proportional to the input array, so the space complexity is O(n)"
   ]
  },
  {
   "cell_type": "markdown",
   "id": "13e907ab-ce46-468e-873d-e29a0b054a05",
   "metadata": {},
   "source": [
    "## strings in `c`\n",
    "\n",
    "- `c` strings are character arrays terminated by `'\\0'`, the `null` character.\n",
    "- `string.h` makes your life easier\n",
    "- Note: returning strings is [difficult to make memory-safe](https://stackoverflow.com/questions/1496313/returning-a-c-string-from-a-function)\n",
    "- single quotes denote a `char`\n",
    "- double quotes denote a string/char array\n",
    "- I won't bother listing out `string.h` functions, just go to [here](https://cheatography.com/ashlyn-black/cheat-sheets/c-reference/) and scroll down\n",
    "\n",
    "\n",
    "- Q: Why is `strcpy`, `strlen`, etc unsafe, whereas `strncpy`, etc. are safe?\n",
    "\n"
   ]
  },
  {
   "cell_type": "markdown",
   "id": "c846eacc-78fc-4311-bac6-71d1d943a893",
   "metadata": {},
   "source": [
    "## Pointers and Memory\n",
    "\n",
    "- Pointers are a way to manage data stored on the [heap](https://stackoverflow.com/questions/79923/what-and-where-are-the-stack-and-heap), which enables us to create dynamically allocated objects.\n",
    "- `c` requires us to manage memory manually and provides `malloc`, `realloc`, `calloc`, and `free` with which to do so.\n",
    "    - As a side note, `c++` has \"smart pointers\" which largely remove the need for granular memory management. \n",
    "    - There are smart pointer implementations for [`c`](https://github.com/Snaipe/libcsptr) as well, but aren't part of the standard library.\n",
    "\n",
    "- Pointers vs arrays:\n",
    "    - Arrays reserve a quantity of data and gives it a name; they are not pointers\n",
    "    - Pointers point to a memory address\n",
    "\n",
    "For example:\n",
    "```c\n",
    "char* str = \"foo\"; // this is a *pointer* to a memory address which contains \"foo\" (as per c shorthand)\n",
    "char str_arr[5] = \"hi\"; // this is just a block of memory which has \"hi\\0\" copied over. The '\\0' is appended as a special case since we work with strings so much    \n",
    "\n",
    "```"
   ]
  },
  {
   "cell_type": "code",
   "execution_count": null,
   "id": "b6071593-b9bb-4b46-b64a-581d099f5d68",
   "metadata": {},
   "outputs": [],
   "source": [
    "#include <stdio.h>\n",
    "#include <string.h>\n",
    "\n",
    "int main()\n",
    "{\n",
    "    char *p = \"hello\";\n",
    "    char q[] = \"hello\";\n",
    "\n",
    "    printf(\"sizeof(p): %zu\\n\", sizeof(p));  \n",
    "    printf(\"sizeof(q): %zu\\n\", sizeof(q)); \n",
    "    // why are these different? Recall: what p and q point to\n",
    "    // p is a pointer, which is 8 bytes on 64-bit systems\n",
    "    // q is a char array, which has size of (len(\"hello\") = 5 + len('\\0') = 1) = 6\n",
    "\n",
    "    printf(\"strlen(p): %zu\\n\", strlen(p)); \n",
    "    printf(\"strlen(q): %zu\\n\", strlen(q)); \n",
    "}"
   ]
  },
  {
   "cell_type": "markdown",
   "id": "8adcbb48-7664-4565-9a2d-ff5f02e7cfd9",
   "metadata": {},
   "source": [
    "> Later on we'll also be working with pointers to `structs` and functions."
   ]
  },
  {
   "cell_type": "markdown",
   "id": "19830f51-ccba-4fdb-9f3b-4377afa1bc91",
   "metadata": {},
   "source": [
    "## Memory Management Cheatsheet\n",
    "\n",
    "### Memory Management Functions\n",
    "\n",
    "- [`void* malloc(size_t size)`](https://en.cppreference.com/w/c/memory/malloc): Allocates `size` bytes and returns a pointer to it. \n",
    "    - If memory allocation succeeds, returns ptr to first byte in memory block\n",
    "    - Returns null pointer on failure\n",
    "        - Q: Why would `malloc` fail?\n",
    "    - Behaviour when size == 0 varies depending on `c` implementation\n",
    "- [`void* calloc(size_t num, size_t size)`](https://en.cppreference.com/w/c/memory/calloc): Allocates a block of memory of size (num*size), zeros-out all allocated bytes. Good for array allocations\n",
    "    - same return behaviour as `malloc`\n",
    "- [`void* realloc(void* ptr, size_t new_size)`](https://en.cppreference.com/w/c/memory/realloc): allocates a chunk of memory of size `new_size`, copies memory from `ptr` to that of memory, and returns a pointer to the block.\n",
    "    - reallocation is done by:\n",
    "        - expanding/shrinking the existing block of memory if possible\n",
    "        - allocating a new memory block\n",
    "    - Same behaviour on NULL ptr or size == 0 as malloc\n",
    "        > Note: in C23 (coming in 2023!) `new_size = 0` will give undefined behavior\n",
    "\n",
    "- [`void free(void* ptr)`](https://en.cppreference.com/w/c/memory/free): Deallocates space previously allocated by one of the prior functions.\n",
    "    - Does nothing with a null pointer\n",
    "    - Produces undefined behaviour if it has already been `free`-ed\n",
    "    - Undefined behaviour if accessing memory that has already been `free`-ed\n",
    "    - Good practice to set pointers to NULL after `free`-ing them\n",
    "\n",
    "> Note: if not covered in class yet, `void` in the context of a `void*` denotes an \"universal pointer\"\n",
    "\n",
    "\n",
    "### Memory Management Errors\n",
    "You will need to know the following:\n",
    "\n",
    "- Memory leak: not `free`-ing memory\n",
    "- Segmentation fault: accessing memory the program *explicitly* doesn't have access to\n",
    "    - Note how *sometimes* we can access memory past array bounds\n",
    "- Invalid read: reading memory that program doesn't have access to\n"
   ]
  },
  {
   "cell_type": "code",
   "execution_count": 14,
   "id": "085d4d46-286d-4437-8209-a1433d852dad",
   "metadata": {},
   "outputs": [
    {
     "name": "stdout",
     "output_type": "stream",
     "text": [
      "5\n",
      "5\n",
      "1640726963\n"
     ]
    },
    {
     "name": "stderr",
     "output_type": "stream",
     "text": [
      "free(): double free detected in tcache 2\n",
      "[C kernel] Executable exited with code -6"
     ]
    }
   ],
   "source": [
    "// Demo: Let's go through this and see what happens\n",
    "// What do we expect to happen?\n",
    "\n",
    "#include <stdio.h>\n",
    "#include <stdlib.h>\n",
    "int main () {\n",
    "    int i = 5;\n",
    "    printf(\"%d\\n\", i);\n",
    "    int* j = (int *) malloc(sizeof(int));\n",
    "    *j = i;\n",
    "\n",
    "    printf(\"%d\\n\", *j);\n",
    "    free(j);\n",
    "    // j = NULL; // What if we include this? What happens later?\n",
    "    printf(\"%d\\n\", *j);\n",
    "    free(j);\n",
    "}\n",
    "\n",
    "// valgrind --leak-check=full --show-leak-kinds=all --track-origins=yes ./program\n",
    "\n"
   ]
  },
  {
   "cell_type": "markdown",
   "id": "4015fdce-1c87-4603-9a97-1933853cd1ce",
   "metadata": {},
   "source": [
    "## Reading `c` declarations\n",
    "\n",
    "\n",
    "\n",
    "### Spiral Rule\n",
    "This is a good general way to read `c` declarations.\n",
    "I'm not going to bother typing this out, so let's look at this webpage: [http://c-faq.com/decl/spiral.anderson.html](http://c-faq.com/decl/spiral.anderson.html)\n",
    "\n",
    ">> Start at the variable name (or innermost construct if no identifier\n",
    ">> is present. Look right without jumping over a right parenthesis; say\n",
    ">> what you see. Look left again without jumping over a parenthesis; say\n",
    ">> what you see. Jump out a level of parentheses if any. Look right;\n",
    ">> say what you see. Look left; say what you see. Continue in this\n",
    ">> manner until you say the variable type or return type.\n",
    "[source](https://parrt.cs.usfca.edu/doc/how-to-read-C-declarations.html)\n",
    "\n",
    "Examples:\n",
    "0. double *h\n",
    "    - h is a pointer to a double\n",
    "1. `int* (* foo)(node*)`\n",
    "    - foo is a pointer to a function that takes a pointer pointing to a node, returning a pointer to an int\n",
    "2. `int (const** foo(int, void (*const p)(int)))(char[])`\n",
    "    - foo is a function which \n",
    "        - takes the parameters\n",
    "            - an int\n",
    "            - a function with an int parameter which returns a const void pointer\n",
    "        - and returns a pointer to a pointer to a constant function\n",
    "            - which takes a char array as an argument\n",
    "        - and returns an integer\n",
    "    \n",
    "    [source](https://www.geeksforgeeks.org/clockwise-spiral-rule-in-c-c-with-examples/)\n",
    "\n",
    "\n",
    "\n",
    "### More formally...\n",
    "But there's a catch! The spiral rule can break [sometimes](https://stackoverflow.com/questions/16260417/the-spiral-rule-about-declarations-when-is-it-in-error)\n",
    "The spiral rule is a good general way to read these declerations\n",
    "but when in doubt, apply [operator precedence](https://en.cppreference.com/w/c/language/operator_precedence) and \"postfix is higher precedence than prefix\"\n",
    "\n",
    "\n",
    "Example: [http://unixwiz.net/techtips/reading-cdecl.html](http://unixwiz.net/techtips/reading-cdecl.html)\n",
    "\n",
    "\n",
    "\n"
   ]
  },
  {
   "cell_type": "markdown",
   "id": "405e6e69-9ffe-4cd6-ad5f-4de2e9800f10",
   "metadata": {},
   "source": [
    "## Structs\n",
    "\n",
    "> I will not cover this in depth since I don't think this has been covered in class\n",
    "\n",
    "- Structs are a way to create complex objects in `c`\n",
    "- Structs are laid out contiguously in memory (with padding for alignment, compiler/implementation specific), in the order in which the elements are declared\n",
    "    - data alignment is a more advanced topic, refer to links below for more. \n",
    "    - TLDR; we want the data we are reading to be aligned at the beginning of the machine's `word` so that it is most efficient\n",
    "- Structs [can be nested](https://fresh2refresh.com/c-programming/c-nested-structure/)\n",
    "- struct elements can be accessed via the `.` operator\n",
    "- Because of how common it is, one can dereference a pointer to a struct *and* access a struct element using the `->` operator\n",
    "\n",
    "Resources:\n",
    "- [https://stackoverflow.com/questions/2748995/struct-memory-layout-in-c](https://stackoverflow.com/questions/2748995/struct-memory-layout-in-c)\n",
    "- [https://en.wikipedia.org/wiki/Data_structure_alignment](https://en.wikipedia.org/wiki/Data_structure_alignment)\n",
    "- [https://stackoverflow.com/questions/41719845/memory-alignment-in-c-c](https://stackoverflow.com/questions/41719845/memory-alignment-in-c-c)\n"
   ]
  },
  {
   "cell_type": "code",
   "execution_count": 19,
   "id": "40bea673-b240-45d6-a48f-bc2f123184cd",
   "metadata": {},
   "outputs": [
    {
     "name": "stdout",
     "output_type": "stream",
     "text": [
      "spot is 2 years old"
     ]
    }
   ],
   "source": [
    "// quick struct demo\n",
    "\n",
    "#include <stdio.h>\n",
    "#include <string.h>\n",
    "\n",
    "struct dog {\n",
    "    int age;\n",
    "    char name[100];\n",
    "}; // <-- Don't forget the ';'!\n",
    "\n",
    "\n",
    "int main () {\n",
    "    \n",
    "    struct dog doggie;\n",
    "    doggie.age = 2;\n",
    "    strcpy(doggie.name, \"spot\");\n",
    "    printf(\"%s is %d years old\", doggie.name, doggie.age);\n",
    "}\n",
    "\n"
   ]
  },
  {
   "cell_type": "code",
   "execution_count": null,
   "id": "bf1b31b4-3704-402a-89bd-fad9b30b143e",
   "metadata": {},
   "outputs": [],
   "source": []
  }
 ],
 "metadata": {
  "kernelspec": {
   "display_name": "C",
   "language": "c",
   "name": "c"
  },
  "language_info": {
   "file_extension": ".c",
   "mimetype": "text/plain",
   "name": "c"
  }
 },
 "nbformat": 4,
 "nbformat_minor": 5
}
